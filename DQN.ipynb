{
  "nbformat": 4,
  "nbformat_minor": 0,
  "metadata": {
    "colab": {
      "name": "DQN.ipynb",
      "provenance": [],
      "collapsed_sections": [],
      "authorship_tag": "ABX9TyP/cfkj5iD9VhAM3XojDiGl",
      "include_colab_link": true
    },
    "kernelspec": {
      "name": "python3",
      "display_name": "Python 3"
    },
    "language_info": {
      "name": "python"
    }
  },
  "cells": [
    {
      "cell_type": "markdown",
      "metadata": {
        "id": "view-in-github",
        "colab_type": "text"
      },
      "source": [
        "<a href=\"https://colab.research.google.com/github/Lxyyxxx/Colab/blob/main/DQN.ipynb\" target=\"_parent\"><img src=\"https://colab.research.google.com/assets/colab-badge.svg\" alt=\"Open In Colab\"/></a>"
      ]
    },
    {
      "cell_type": "code",
      "metadata": {
        "colab": {
          "base_uri": "https://localhost:8080/"
        },
        "id": "PfOhDxOHOsU9",
        "outputId": "de252fce-873b-444f-d6e7-021a0be33c1e"
      },
      "source": [
        "!pip install loguru"
      ],
      "execution_count": 1,
      "outputs": [
        {
          "output_type": "stream",
          "name": "stdout",
          "text": [
            "Requirement already satisfied: loguru in /usr/local/lib/python3.7/dist-packages (0.5.3)\n"
          ]
        }
      ]
    },
    {
      "cell_type": "code",
      "metadata": {
        "id": "7nN-3VIn87mj"
      },
      "source": [
        "import tensorflow as tf\n",
        "import numpy as np\n",
        "import gym\n",
        "import random\n",
        "from loguru import logger\n",
        "from typing import Any, Tuple, List\n",
        "from collections import deque"
      ],
      "execution_count": 2,
      "outputs": []
    },
    {
      "cell_type": "code",
      "metadata": {
        "id": "ZHbRX6w59AqB"
      },
      "source": [
        "class DQNModel(tf.keras.Model):\n",
        "    def __init__(self, action_n: int) -> None:\n",
        "        super().__init__()\n",
        "        self.nn = [\n",
        "            tf.keras.layers.Dense(128, activation='relu'),\n",
        "            tf.keras.layers.Dense(128, activation='relu'),\n",
        "            tf.keras.layers.Dense(action_n),\n",
        "        ]\n",
        "\n",
        "    def call(self, state: Any) -> Any:\n",
        "        q = state\n",
        "        for layer in self.nn:\n",
        "            q = layer(q)\n",
        "        return q"
      ],
      "execution_count": 3,
      "outputs": []
    },
    {
      "cell_type": "code",
      "metadata": {
        "id": "mcU1Ltv29z63"
      },
      "source": [
        "class ReplayMemory():\n",
        "    def __init__(self, N: int) -> None:\n",
        "        self.N = N\n",
        "        self.q = deque(maxlen=N)\n",
        "\n",
        "    def save_experience(self, s: Any, a: int, r: float, s_: Any, d: bool) -> None:\n",
        "        self.q.append([s, a, r, s_, d])\n",
        "\n",
        "    def sample_experience(self, batch_size: int) -> Tuple[List, List, List, List, List]:\n",
        "        minibatch = random.sample(self.q, batch_size)\n",
        "        s, a, r, s_, d = map(np.stack, zip(*minibatch))\n",
        "        return s, a, r, s_, d\n",
        "\n",
        "    def __len__(self) -> int:\n",
        "        return len(self.q)"
      ],
      "execution_count": 4,
      "outputs": []
    },
    {
      "cell_type": "code",
      "metadata": {
        "id": "yRkbyTDW-cE-"
      },
      "source": [
        "class DQNAgent():\n",
        "    def __init__(\n",
        "        self, \n",
        "        input_shape: tuple, \n",
        "        action_n: int, \n",
        "        memory_size: int = 20000, \n",
        "        batch_size: int = 32, \n",
        "        alpha: float = 0.001, \n",
        "        gamma: float = 0.99, \n",
        "        epsilon: float = 1.0, \n",
        "        epsilon_decrement: float = 0.995,\n",
        "        epsilon_min: float = 0.1,\n",
        "        update_frequency: int = 20\n",
        "    ) -> None:\n",
        "        self.action_n = action_n\n",
        "        self.input_shape = input_shape\n",
        "        self.memory_size = memory_size\n",
        "        self.batch_size = batch_size\n",
        "        self.alpha = alpha\n",
        "        self.gamma = gamma\n",
        "        self.epsilon = epsilon\n",
        "        self.epsilon_decrement = epsilon_decrement\n",
        "        self.epsilon_min = epsilon_min\n",
        "        self.update_frequency = update_frequency\n",
        "        self.model = DQNModel(action_n)\n",
        "        self.target_model = DQNModel(action_n)\n",
        "        self.replay_memory = ReplayMemory(memory_size)\n",
        "        self.global_step = 0\n",
        "    \n",
        "    def predict(self, state: Any) -> int:\n",
        "        state = tf.expand_dims(tf.convert_to_tensor(state), 0)\n",
        "        action = tf.argmax(self.model(state), axis=1).numpy()[0]\n",
        "        return action\n",
        "\n",
        "    def sample(self, state: Any) -> int:\n",
        "        action = self.predict(state)\n",
        "        # epsilon-greedy\n",
        "        if np.random.random() < self.epsilon:\n",
        "            action = np.random.choice(self.action_n)\n",
        "        # update epsilon\n",
        "        self.epsilon = max(self.epsilon_min, self.epsilon * self.epsilon_decrement)\n",
        "        return action\n",
        "\n",
        "    def learn(self) -> None:\n",
        "        self.global_step += 1\n",
        "        # learn\n",
        "        # experience replay\n",
        "        state, action, reward, state_, done = self.replay_memory.sample_experience(self.batch_size)\n",
        "        with tf.GradientTape() as tape:\n",
        "            predict_q = self.model(state)\n",
        "            predict_future_q = self.target_model(state_)\n",
        "            predict_action_q = tf.reduce_sum(tf.multiply(predict_q, tf.one_hot(action, self.action_n)), axis=1)\n",
        "            target_q = reward + (1 - done) * self.gamma * np.max(predict_future_q, axis=1)\n",
        "            loss = tf.keras.losses.MeanSquaredError()(predict_action_q, target_q)\n",
        "        grads = tape.gradient(loss, self.model.trainable_variables)\n",
        "        optimizer = tf.keras.optimizers.RMSprop(self.alpha)\n",
        "        optimizer.apply_gradients(zip(grads, self.model.trainable_variables))\n",
        "        # sync target\n",
        "        if self.global_step % self.update_frequency == 0:\n",
        "            self.update_target()\n",
        "\n",
        "    def save_experience(self, s: Any, a: int, r: float, s_: Any, d: bool) -> None:\n",
        "        self.replay_memory.save_experience(s, a, r, s_, d)\n",
        "\n",
        "    def update_target(self) -> None:\n",
        "        self.target_model.set_weights(self.model.get_weights())\n",
        "\n",
        "    def save_model(self) -> None:\n",
        "        self.model.save('dqn')\n",
        "\n",
        "    def load_model(self) -> None:\n",
        "        self.model = tf.keras.models.load_model('dqn')"
      ],
      "execution_count": 5,
      "outputs": []
    },
    {
      "cell_type": "code",
      "metadata": {
        "id": "_js8XpNxAi-9"
      },
      "source": [
        "def run_episode(env: gym.Wrapper, agent: DQNAgent, training: bool, batch_size: int = 32, render: bool = False) -> float:\n",
        "    state = env.reset()\n",
        "    done = False\n",
        "    step = 0\n",
        "    score = 0\n",
        "    while not done:\n",
        "        if render:\n",
        "            env.render()\n",
        "        step += 1\n",
        "        action = agent.sample(state)\n",
        "        state_, reward, done, info = env.step(action)\n",
        "        score += reward\n",
        "        agent.save_experience(state, action, reward, state_, done)\n",
        "        if len(agent.replay_memory) > batch_size and training:\n",
        "            agent.learn()\n",
        "        state = state_\n",
        "    return score"
      ],
      "execution_count": 6,
      "outputs": []
    },
    {
      "cell_type": "code",
      "metadata": {
        "id": "fIf2eQfUA_4r"
      },
      "source": [
        "def warm(env: gym.Wrapper, agent: DQNAgent, warm_steps: int = 200) -> None:\n",
        "    for warm_step in range(warm_steps):\n",
        "        run_episode(env, agent, training=False)\n",
        "\n",
        "def train(env: gym.Wrapper, agent: DQNAgent) -> None:\n",
        "    score_result = []\n",
        "    max_score = 0\n",
        "    for episode in range(1000):\n",
        "        score = run_episode(env, agent, training=True)\n",
        "        score_result.append(score)\n",
        "        if score > max_score:\n",
        "            max_score = score\n",
        "            logger.info('Episode {}: Best score {}'.format(episode, score))\n",
        "        if score == max_score:\n",
        "            agent.save_model()\n",
        "        if episode % 50 == 0:\n",
        "            logger.info('Episode {}: score {}'.format(episode, score))\n",
        "\n",
        "    plt.title('Train Score Curve')\n",
        "    plt.xlabel('Episode')\n",
        "    plt.ylabel('Score')\n",
        "    plt.plot(score_result, label='$Score$')\n",
        "    plt.legend()\n",
        "    plt.show()\n",
        "\n",
        "def play(env: gym.Wrapper, agent: DQNAgent) -> None:\n",
        "    score_result = []\n",
        "    agent.load_model()\n",
        "    for episode in range(5):\n",
        "        score = run_episode(env, agent, training=False, render=False)\n",
        "        score_result.append(score)\n",
        "        logger.info('Round {}: score: {}'.format(episode, score))\n",
        "    \n",
        "    plt.title('Play Score Curve')\n",
        "    plt.xlabel('Round')\n",
        "    plt.ylabel('Score')\n",
        "    plt.plot(score_result, label='$Score$')\n",
        "    plt.legend()\n",
        "    plt.show()"
      ],
      "execution_count": 7,
      "outputs": []
    },
    {
      "cell_type": "code",
      "metadata": {
        "colab": {
          "base_uri": "https://localhost:8080/",
          "height": 1000
        },
        "id": "CC2KnZ_0A3yt",
        "outputId": "50e02447-dbae-4863-fade-a273722727e8"
      },
      "source": [
        "if __name__ == '__main__':\n",
        "    import matplotlib.pyplot as plt\n",
        "\n",
        "    env = gym.make('CartPole-v0')\n",
        "    agent = DQNAgent(env.observation_space.shape, env.action_space.n)\n",
        "    # warm\n",
        "    warm(env, agent)\n",
        "    # train\n",
        "    train(env, agent)\n",
        "    # play\n",
        "    play(env, agent)"
      ],
      "execution_count": 8,
      "outputs": [
        {
          "metadata": {
            "tags": null
          },
          "name": "stderr",
          "output_type": "stream",
          "text": [
            "2021-10-04 15:19:06.426 | INFO     | __main__:train:13 - Episode 0: Best score 13.0\n"
          ]
        },
        {
          "metadata": {
            "tags": null
          },
          "name": "stdout",
          "output_type": "stream",
          "text": [
            "INFO:tensorflow:Assets written to: dqn/assets\n"
          ]
        },
        {
          "metadata": {
            "tags": null
          },
          "name": "stderr",
          "output_type": "stream",
          "text": [
            "2021-10-04 15:19:07.179 | INFO     | __main__:train:17 - Episode 0: score 13.0\n"
          ]
        },
        {
          "metadata": {
            "tags": null
          },
          "name": "stdout",
          "output_type": "stream",
          "text": [
            "INFO:tensorflow:Assets written to: dqn/assets\n"
          ]
        },
        {
          "metadata": {
            "tags": null
          },
          "name": "stderr",
          "output_type": "stream",
          "text": [
            "2021-10-04 15:19:11.375 | INFO     | __main__:train:13 - Episode 14: Best score 20.0\n"
          ]
        },
        {
          "metadata": {
            "tags": null
          },
          "name": "stdout",
          "output_type": "stream",
          "text": [
            "INFO:tensorflow:Assets written to: dqn/assets\n"
          ]
        },
        {
          "metadata": {
            "tags": null
          },
          "name": "stderr",
          "output_type": "stream",
          "text": [
            "2021-10-04 15:19:12.815 | INFO     | __main__:train:13 - Episode 16: Best score 25.0\n"
          ]
        },
        {
          "metadata": {
            "tags": null
          },
          "name": "stdout",
          "output_type": "stream",
          "text": [
            "INFO:tensorflow:Assets written to: dqn/assets\n"
          ]
        },
        {
          "metadata": {
            "tags": null
          },
          "name": "stderr",
          "output_type": "stream",
          "text": [
            "2021-10-04 15:19:13.975 | INFO     | __main__:train:13 - Episode 17: Best score 30.0\n"
          ]
        },
        {
          "metadata": {
            "tags": null
          },
          "name": "stdout",
          "output_type": "stream",
          "text": [
            "INFO:tensorflow:Assets written to: dqn/assets\n"
          ]
        },
        {
          "metadata": {
            "tags": null
          },
          "name": "stderr",
          "output_type": "stream",
          "text": [
            "2021-10-04 15:19:15.366 | INFO     | __main__:train:13 - Episode 18: Best score 39.0\n"
          ]
        },
        {
          "metadata": {
            "tags": null
          },
          "name": "stdout",
          "output_type": "stream",
          "text": [
            "INFO:tensorflow:Assets written to: dqn/assets\n"
          ]
        },
        {
          "metadata": {
            "tags": null
          },
          "name": "stderr",
          "output_type": "stream",
          "text": [
            "2021-10-04 15:19:24.255 | INFO     | __main__:train:13 - Episode 30: Best score 86.0\n"
          ]
        },
        {
          "metadata": {
            "tags": null
          },
          "name": "stdout",
          "output_type": "stream",
          "text": [
            "INFO:tensorflow:Assets written to: dqn/assets\n"
          ]
        },
        {
          "metadata": {
            "tags": null
          },
          "name": "stderr",
          "output_type": "stream",
          "text": [
            "2021-10-04 15:19:34.052 | INFO     | __main__:train:13 - Episode 40: Best score 88.0\n"
          ]
        },
        {
          "metadata": {
            "tags": null
          },
          "name": "stdout",
          "output_type": "stream",
          "text": [
            "INFO:tensorflow:Assets written to: dqn/assets\n"
          ]
        },
        {
          "metadata": {
            "tags": null
          },
          "name": "stderr",
          "output_type": "stream",
          "text": [
            "2021-10-04 15:19:36.911 | INFO     | __main__:train:13 - Episode 41: Best score 99.0\n"
          ]
        },
        {
          "metadata": {
            "tags": null
          },
          "name": "stdout",
          "output_type": "stream",
          "text": [
            "INFO:tensorflow:Assets written to: dqn/assets\n"
          ]
        },
        {
          "metadata": {
            "tags": null
          },
          "name": "stderr",
          "output_type": "stream",
          "text": [
            "2021-10-04 15:19:51.639 | INFO     | __main__:train:17 - Episode 50: score 60.0\n",
            "2021-10-04 15:19:57.162 | INFO     | __main__:train:13 - Episode 53: Best score 100.0\n"
          ]
        },
        {
          "metadata": {
            "tags": null
          },
          "name": "stdout",
          "output_type": "stream",
          "text": [
            "INFO:tensorflow:Assets written to: dqn/assets\n"
          ]
        },
        {
          "metadata": {
            "tags": null
          },
          "name": "stderr",
          "output_type": "stream",
          "text": [
            "2021-10-04 15:20:03.041 | INFO     | __main__:train:13 - Episode 55: Best score 146.0\n"
          ]
        },
        {
          "metadata": {
            "tags": null
          },
          "name": "stdout",
          "output_type": "stream",
          "text": [
            "INFO:tensorflow:Assets written to: dqn/assets\n"
          ]
        },
        {
          "metadata": {
            "tags": null
          },
          "name": "stderr",
          "output_type": "stream",
          "text": [
            "2021-10-04 15:20:13.777 | INFO     | __main__:train:13 - Episode 58: Best score 200.0\n"
          ]
        },
        {
          "metadata": {
            "tags": null
          },
          "name": "stdout",
          "output_type": "stream",
          "text": [
            "INFO:tensorflow:Assets written to: dqn/assets\n",
            "INFO:tensorflow:Assets written to: dqn/assets\n",
            "INFO:tensorflow:Assets written to: dqn/assets\n",
            "INFO:tensorflow:Assets written to: dqn/assets\n",
            "INFO:tensorflow:Assets written to: dqn/assets\n",
            "INFO:tensorflow:Assets written to: dqn/assets\n"
          ]
        },
        {
          "metadata": {
            "tags": null
          },
          "name": "stderr",
          "output_type": "stream",
          "text": [
            "2021-10-04 15:22:51.106 | INFO     | __main__:train:17 - Episode 100: score 108.0\n"
          ]
        },
        {
          "metadata": {
            "tags": null
          },
          "name": "stdout",
          "output_type": "stream",
          "text": [
            "INFO:tensorflow:Assets written to: dqn/assets\n",
            "INFO:tensorflow:Assets written to: dqn/assets\n",
            "INFO:tensorflow:Assets written to: dqn/assets\n",
            "INFO:tensorflow:Assets written to: dqn/assets\n",
            "INFO:tensorflow:Assets written to: dqn/assets\n",
            "INFO:tensorflow:Assets written to: dqn/assets\n",
            "INFO:tensorflow:Assets written to: dqn/assets\n"
          ]
        },
        {
          "metadata": {
            "tags": null
          },
          "name": "stderr",
          "output_type": "stream",
          "text": [
            "2021-10-04 15:24:52.321 | INFO     | __main__:train:17 - Episode 150: score 20.0\n",
            "2021-10-04 15:25:06.842 | INFO     | __main__:train:17 - Episode 200: score 12.0\n",
            "2021-10-04 15:25:18.841 | INFO     | __main__:train:17 - Episode 250: score 10.0\n",
            "2021-10-04 15:25:30.564 | INFO     | __main__:train:17 - Episode 300: score 11.0\n",
            "2021-10-04 15:25:46.003 | INFO     | __main__:train:17 - Episode 350: score 13.0\n",
            "2021-10-04 15:25:59.594 | INFO     | __main__:train:17 - Episode 400: score 9.0\n",
            "2021-10-04 15:26:12.956 | INFO     | __main__:train:17 - Episode 450: score 11.0\n"
          ]
        },
        {
          "output_type": "stream",
          "name": "stdout",
          "text": [
            "INFO:tensorflow:Assets written to: dqn/assets\n",
            "INFO:tensorflow:Assets written to: dqn/assets\n",
            "INFO:tensorflow:Assets written to: dqn/assets\n",
            "INFO:tensorflow:Assets written to: dqn/assets\n",
            "INFO:tensorflow:Assets written to: dqn/assets\n"
          ]
        },
        {
          "output_type": "stream",
          "name": "stderr",
          "text": [
            "2021-10-04 15:27:06.532 | INFO     | __main__:train:17 - Episode 500: score 9.0\n",
            "2021-10-04 15:27:18.441 | INFO     | __main__:train:17 - Episode 550: score 10.0\n",
            "2021-10-04 15:27:30.025 | INFO     | __main__:train:17 - Episode 600: score 10.0\n",
            "2021-10-04 15:27:41.849 | INFO     | __main__:train:17 - Episode 650: score 10.0\n",
            "2021-10-04 15:27:53.591 | INFO     | __main__:train:17 - Episode 700: score 15.0\n",
            "2021-10-04 15:28:28.557 | INFO     | __main__:train:17 - Episode 750: score 24.0\n"
          ]
        },
        {
          "output_type": "stream",
          "name": "stdout",
          "text": [
            "INFO:tensorflow:Assets written to: dqn/assets\n"
          ]
        },
        {
          "output_type": "stream",
          "name": "stderr",
          "text": [
            "2021-10-04 15:29:40.560 | INFO     | __main__:train:17 - Episode 800: score 83.0\n",
            "2021-10-04 15:30:30.508 | INFO     | __main__:train:17 - Episode 850: score 18.0\n",
            "2021-10-04 15:30:53.061 | INFO     | __main__:train:17 - Episode 900: score 16.0\n",
            "2021-10-04 15:31:13.896 | INFO     | __main__:train:17 - Episode 950: score 25.0\n"
          ]
        },
        {
          "output_type": "display_data",
          "data": {
            "image/png": "[encoded data removed]",
            "text/plain": [
              "<Figure size 432x288 with 1 Axes>"
            ]
          },
          "metadata": {
            "needs_background": "light"
          }
        },
        {
          "output_type": "stream",
          "name": "stdout",
          "text": [
            "WARNING:tensorflow:No training configuration found in save file, so the model was *not* compiled. Compile it manually.\n"
          ]
        },
        {
          "output_type": "stream",
          "name": "stderr",
          "text": [
            "2021-10-04 15:31:36.283 | INFO     | __main__:play:32 - Round 0: score: 28.0\n",
            "2021-10-04 15:31:36.328 | INFO     | __main__:play:32 - Round 1: score: 36.0\n",
            "2021-10-04 15:31:36.362 | INFO     | __main__:play:32 - Round 2: score: 20.0\n",
            "2021-10-04 15:31:36.389 | INFO     | __main__:play:32 - Round 3: score: 21.0\n",
            "2021-10-04 15:31:36.426 | INFO     | __main__:play:32 - Round 4: score: 31.0\n"
          ]
        },
        {
          "output_type": "display_data",
          "data": {
            "image/png": "[encoded data removed]",
            "text/plain": [
              "<Figure size 432x288 with 1 Axes>"
            ]
          },
          "metadata": {
            "needs_background": "light"
          }
        }
      ]
    },
    {
      "cell_type": "code",
      "metadata": {
        "id": "fKzt05rHPUqv"
      },
      "source": [
        ""
      ],
      "execution_count": 8,
      "outputs": []
    }
  ]
}