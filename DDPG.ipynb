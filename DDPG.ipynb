{
  "nbformat": 4,
  "nbformat_minor": 0,
  "metadata": {
    "colab": {
      "name": "DDPG.ipynb",
      "provenance": [],
      "collapsed_sections": [],
      "authorship_tag": "ABX9TyMSyOwOpmFvkdfEB/VQaJgJ",
      "include_colab_link": true
    },
    "kernelspec": {
      "name": "python3",
      "display_name": "Python 3"
    },
    "language_info": {
      "name": "python"
    }
  },
  "cells": [
    {
      "cell_type": "markdown",
      "metadata": {
        "id": "view-in-github",
        "colab_type": "text"
      },
      "source": [
        "<a href=\"https://colab.research.google.com/github/Lxyyxxx/Colab/blob/main/DDPG.ipynb\" target=\"_parent\"><img src=\"https://colab.research.google.com/assets/colab-badge.svg\" alt=\"Open In Colab\"/></a>"
      ]
    },
    {
      "cell_type": "code",
      "metadata": {
        "colab": {
          "base_uri": "https://localhost:8080/"
        },
        "id": "PfOhDxOHOsU9",
        "outputId": "bc3e5547-80dd-48f9-c289-3439faebff88"
      },
      "source": [
        "!pip install loguru"
      ],
      "execution_count": 1,
      "outputs": [
        {
          "output_type": "stream",
          "name": "stdout",
          "text": [
            "Requirement already satisfied: loguru in /usr/local/lib/python3.7/dist-packages (0.5.3)\n"
          ]
        }
      ]
    },
    {
      "cell_type": "code",
      "metadata": {
        "id": "7nN-3VIn87mj"
      },
      "source": [
        "import tensorflow as tf\n",
        "import gym\n",
        "import numpy as np\n",
        "import random\n",
        "import matplotlib.pyplot as plt\n",
        "from collections import deque\n",
        "from loguru import logger"
      ],
      "execution_count": 2,
      "outputs": []
    },
    {
      "cell_type": "code",
      "metadata": {
        "id": "ZHbRX6w59AqB"
      },
      "source": [
        "class Actor(tf.keras.Model):\n",
        "    def __init__(self, n_state, n_action, alpha, a_low, a_high, exploration_noise) -> None:\n",
        "        super(Actor, self).__init__()\n",
        "        self.w_init = tf.keras.initializers.RandomNormal(0, .1)\n",
        "        self.b_init = tf.keras.initializers.constant(.1)\n",
        "        self.n_action = n_action\n",
        "        self.alpha = alpha\n",
        "        self.loss_fn = tf.keras.losses.sparse_categorical_crossentropy  # -lnx\n",
        "        self.optimizer_fn = tf.keras.optimizers.Adam(alpha)\n",
        "        self.activation_fn = lambda x: tf.clip_by_value(tf.random.normal([1], x, exploration_noise), a_low, a_high)  # policy + noise + clip\n",
        "        self.nn = [\n",
        "            tf.keras.layers.Dense(\n",
        "                16, activation='relu', kernel_initializer=self.w_init, bias_initializer=self.b_init),\n",
        "            # tf.keras.layers.Dense(\n",
        "            #     16, activation='relu', kernel_initializer=self.w_init, bias_initializer=self.b_init),\n",
        "            # tf.keras.layers.Dense(\n",
        "            #     16, activation='relu', kernel_initializer=self.w_init, bias_initializer=self.b_init),\n",
        "            tf.keras.layers.Dense(\n",
        "                self.n_action, activation='linear', kernel_initializer=self.w_init, bias_initializer=self.b_init)\n",
        "        ]\n",
        "\n",
        "    def call(self, x):\n",
        "        for layer in self.nn:\n",
        "            x = layer(x)\n",
        "        return x\n",
        "\n",
        "    @tf.function\n",
        "    def learn(self, actor, critic, state):\n",
        "        with tf.GradientTape() as tape:\n",
        "            loss = critic(tf.concat([state, actor(state)], 1))\n",
        "        grads = tape.gradient(loss, self.trainable_variables)\n",
        "        self.optimizer_fn.apply_gradients(zip(grads, self.trainable_variables))"
      ],
      "execution_count": 3,
      "outputs": []
    },
    {
      "cell_type": "code",
      "metadata": {
        "id": "_Hhzv0e5FKcb"
      },
      "source": [
        "class Critic(tf.keras.Model):\n",
        "    def __init__(self, n_state, n_action, alpha, gamma) -> None:\n",
        "        super(Critic, self).__init__()\n",
        "        self.w_init = tf.keras.initializers.RandomNormal(0, .1)\n",
        "        self.b_init = tf.keras.initializers.constant(.1)\n",
        "        self.n_action = n_action\n",
        "        self.alpha = alpha\n",
        "        self.gamma = gamma\n",
        "        self.loss_fn = tf.keras.losses.mse\n",
        "        self.optimizer_fn = tf.keras.optimizers.Adam(self.alpha)\n",
        "        self.nn = [\n",
        "            tf.keras.layers.Dense(\n",
        "                32, activation='relu', kernel_initializer=self.w_init, bias_initializer=self.b_init),\n",
        "            # tf.keras.layers.Dense(\n",
        "            #     32, activation='relu', kernel_initializer=self.w_init, bias_initializer=self.b_init),\n",
        "            # tf.keras.layers.Dense(\n",
        "            #     32, activation='relu', kernel_initializer=self.w_init, bias_initializer=self.b_init),\n",
        "            tf.keras.layers.Dense(\n",
        "                1, activation='linear', kernel_initializer=self.w_init, bias_initializer=self.b_init)\n",
        "        ]\n",
        "\n",
        "    def call(self, x):\n",
        "        for layer in self.nn:\n",
        "            x = layer(x)\n",
        "        return x\n",
        "\n",
        "    @tf.function\n",
        "    def learn(self, target_actor, target_critic, state, action, reward, state_):\n",
        "        with tf.GradientTape() as tape:\n",
        "            target_q = tf.stop_gradient(target_critic(tf.concat([state_, target_actor(state_)], 1)))\n",
        "            y_true = reward + self.gamma * target_q\n",
        "            y_pred = self(tf.concat([state, action], 1))  # action = actor(state)\n",
        "            loss = self.loss_fn(y_true, y_pred)\n",
        "        grads = tape.gradient(loss, self.trainable_variables)\n",
        "        self.optimizer_fn.apply_gradients(zip(grads, self.trainable_variables))"
      ],
      "execution_count": 4,
      "outputs": []
    },
    {
      "cell_type": "code",
      "metadata": {
        "id": "mcU1Ltv29z63"
      },
      "source": [
        "class ReplayMemory():\n",
        "    def __init__(self, N: int) -> None:\n",
        "        self.N = N\n",
        "        self.q = deque(maxlen=N)\n",
        "\n",
        "    def save_experience(self, s, a: float, r: float, s_) -> None:\n",
        "        # if isinstance(s, np.ndarray):  # hash\n",
        "        #     s = s.tolist()\n",
        "        # if isinstance(s_, np.ndarray):\n",
        "        #     s_ = s_.tolist()\n",
        "        experience = [s, a, r, s_]\n",
        "        # exist = experience in self.q\n",
        "        # if not exist:\n",
        "        #     self.q.append(experience)\n",
        "        self.q.append(experience)\n",
        "\n",
        "\n",
        "    def sample_experience(self, batch_size: int):\n",
        "        minibatch = random.sample(self.q, batch_size)\n",
        "        s, a, r, s_ = map(np.stack, zip(*minibatch))\n",
        "        return s, a, r, s_\n",
        "\n",
        "    def __len__(self) -> int:\n",
        "        return len(self.q)"
      ],
      "execution_count": 5,
      "outputs": []
    },
    {
      "cell_type": "code",
      "metadata": {
        "id": "yRkbyTDW-cE-"
      },
      "source": [
        "class DDPG:\n",
        "    def __init__(\n",
        "        self,\n",
        "        state_n: int,\n",
        "        action_n: int,\n",
        "        a_low: float,\n",
        "        a_high: float,\n",
        "        alpha_q: float = 0.002,\n",
        "        alpha_p: float = 0.001,\n",
        "        gamma: float = 0.9,\n",
        "        tau: float = 0.01,\n",
        "        exploration_noise: float = 3,\n",
        "        memory_size: int = 10000,\n",
        "        batch_size: int = 32,\n",
        "    ) -> None:\n",
        "        self.online_actor = Actor(state_n, action_n, alpha_p, a_low, a_high, exploration_noise)\n",
        "        self.online_critic = Critic(state_n, action_n, alpha_q, gamma)\n",
        "        self.target_actor = Actor(state_n, action_n, alpha_p, a_low, a_high, exploration_noise)\n",
        "        self.target_critic = Critic(state_n, action_n, alpha_q, gamma)\n",
        "        self.replay_buffer = ReplayMemory(memory_size)\n",
        "        self.batch_size = batch_size\n",
        "        self.tau = tau\n",
        "        self.exploration_noise = exploration_noise\n",
        "\n",
        "    def sample(self, state):\n",
        "        def online_actor_sample(state):\n",
        "            state = tf.constant(tf.expand_dims(state, 0))\n",
        "            op = self.online_actor(state)[0]\n",
        "            action = tf.random.normal([1], op, self.exploration_noise).numpy()\n",
        "            return action\n",
        "        return online_actor_sample(state)\n",
        "\n",
        "    def learn(self):\n",
        "        state, action, reward, state_ = self.replay_buffer.sample_experience(\n",
        "            self.batch_size)\n",
        "        state = tf.cast(tf.constant(state), dtype=tf.float32)\n",
        "        action = tf.cast(tf.constant(action), dtype=tf.float32)\n",
        "        reward = tf.cast(tf.constant(reward), dtype=tf.float32)\n",
        "        state_ = tf.cast(tf.constant(state_), dtype=tf.float32)\n",
        "        # online actor & critic\n",
        "        self.online_critic.learn(self.target_actor, self.target_critic, state, action, reward, state_)\n",
        "        self.online_actor.learn(self.online_actor, self.online_critic, state)\n",
        "        # target actor & critic\n",
        "        for o, t in zip(self.online_actor.trainable_variables + self.online_critic.trainable_variables, self.target_actor.trainable_variables + self.target_critic.trainable_variables):\n",
        "            t.assign(self.tau * o + (1 - self.tau) * t)\n",
        "        self.exploration_noise *= .995\n",
        "        \n",
        "    def save_experience(self, state, action, reward, state_):\n",
        "        self.replay_buffer.save_experience(state, action, reward, state_)\n",
        "\n",
        "    def save_model(self) -> None:\n",
        "        self.online_actor.save('online_actor')\n",
        "        self.online_critic.save('online_critic')\n",
        "        self.target_actor.save('target_actor')\n",
        "        self.target_critic.save('target_critic')\n",
        "\n",
        "    def load_model(self) -> None:\n",
        "        self.online_actor = tf.keras.models.load_model('online_actor', compile=False)\n",
        "        self.online_critic = tf.keras.models.load_model('online_critic', compile=False)\n",
        "        self.target_actor = tf.keras.models.load_model('target_actor', compile=False)\n",
        "        self.target_critic = tf.keras.models.load_model('target_critic', compile=False)"
      ],
      "execution_count": 6,
      "outputs": []
    },
    {
      "cell_type": "code",
      "metadata": {
        "id": "_js8XpNxAi-9"
      },
      "source": [
        "def run_episode(env: gym.Wrapper, agent: DDPG, training: bool, render: bool = False, max_steps: int = 200) -> float:\n",
        "    state = env.reset()\n",
        "    score = 0\n",
        "    for step in range(max_steps): # done 永远为 False\n",
        "        if render:\n",
        "            env.render()\n",
        "        action = agent.sample(state)\n",
        "        state_, reward, done, info = env.step(action)\n",
        "        agent.save_experience(state, action, reward, state_)\n",
        "        score += reward\n",
        "        if training:\n",
        "            agent.learn()\n",
        "        state = state_\n",
        "    return score"
      ],
      "execution_count": 7,
      "outputs": []
    },
    {
      "cell_type": "code",
      "metadata": {
        "id": "fIf2eQfUA_4r"
      },
      "source": [
        "def warm(env: gym.Wrapper, agent: DDPG, warm_steps: int = 64) -> None:\n",
        "    for warm_step in range(warm_steps):\n",
        "        run_episode(env, agent, training=False)\n",
        "\n",
        "\n",
        "def train(env: gym.Wrapper, agent: DDPG) -> None:\n",
        "    score_result = []\n",
        "    max_score = 0\n",
        "    for episode in range(200):\n",
        "        score = run_episode(env, agent, training=True)\n",
        "        score_result.append(score)\n",
        "        if score > max_score:\n",
        "            max_score = score\n",
        "            logger.info('Episode {}: Best score {}'.format(episode, score))\n",
        "            agent.save_model()\n",
        "        elif score == max_score:\n",
        "            logger.info('Episode {}: Best score {}'.format(episode, score))\n",
        "            agent.save_model()\n",
        "        if episode % 50 == 0:\n",
        "            logger.info('Episode {}: score {}'.format(episode, score))\n",
        "    plt.title('Train Score Curve')\n",
        "    plt.xlabel('Episode')\n",
        "    plt.ylabel('Score')\n",
        "    plt.plot(score_result, label='$Score$')\n",
        "    plt.legend()\n",
        "    plt.show()\n",
        "\n",
        "\n",
        "def play(env: gym.Wrapper, agent: DDPG) -> None:\n",
        "    score_result = []\n",
        "    # agent.load_model()\n",
        "    for episode in range(5):\n",
        "        score = run_episode(env, agent, training=False)\n",
        "        score_result.append(score)\n",
        "        logger.info('Round {}: score: {}'.format(episode, score))\n",
        "    plt.title('Play Score Curve')\n",
        "    plt.xlabel('Round')\n",
        "    plt.ylabel('Score')\n",
        "    plt.plot(score_result, label='$Score$')\n",
        "    plt.legend()\n",
        "    plt.show()"
      ],
      "execution_count": 8,
      "outputs": []
    },
    {
      "cell_type": "code",
      "metadata": {
        "colab": {
          "base_uri": "https://localhost:8080/",
          "height": 726
        },
        "id": "CC2KnZ_0A3yt",
        "outputId": "54d5e99f-fe20-4d98-9761-241e00c3fd20"
      },
      "source": [
        "if __name__ == '__main__':\n",
        "    env = gym.make('Pendulum-v0')\n",
        "    agent = DDPG(env.observation_space.shape[0], env.action_space.shape[0], env.action_space.low[0], env.action_space.high[0])\n",
        "    warm(env, agent)\n",
        "    train(env, agent)\n",
        "    play(env, agent)"
      ],
      "execution_count": 9,
      "outputs": [
        {
          "output_type": "stream",
          "name": "stderr",
          "text": [
            "2021-10-14 22:24:31.112 | INFO     | __main__:train:20 - Episode 0: score -1264.4566877097584\n",
            "2021-10-14 22:25:22.524 | INFO     | __main__:train:20 - Episode 50: score -1459.4060911772926\n",
            "2021-10-14 22:26:14.084 | INFO     | __main__:train:20 - Episode 100: score -1379.2937531179823\n",
            "2021-10-14 22:27:06.452 | INFO     | __main__:train:20 - Episode 150: score -1156.7269789873537\n"
          ]
        },
        {
          "output_type": "display_data",
          "data": {
            "image/png": "[encoded data removed]",
            "text/plain": [
              "<Figure size 432x288 with 1 Axes>"
            ]
          },
          "metadata": {
            "needs_background": "light"
          }
        },
        {
          "output_type": "stream",
          "name": "stderr",
          "text": [
            "2021-10-14 22:27:58.125 | INFO     | __main__:play:35 - Round 0: score: -1201.8980137786125\n",
            "2021-10-14 22:27:58.379 | INFO     | __main__:play:35 - Round 1: score: -938.7783919849645\n",
            "2021-10-14 22:27:58.641 | INFO     | __main__:play:35 - Round 2: score: -840.3975914269596\n",
            "2021-10-14 22:27:58.889 | INFO     | __main__:play:35 - Round 3: score: -14.64117078059007\n",
            "2021-10-14 22:27:59.117 | INFO     | __main__:play:35 - Round 4: score: -1240.5342953616323\n"
          ]
        },
        {
          "output_type": "display_data",
          "data": {
            "image/png": "[encoded data removed]",
            "text/plain": [
              "<Figure size 432x288 with 1 Axes>"
            ]
          },
          "metadata": {
            "needs_background": "light"
          }
        }
      ]
    },
    {
      "cell_type": "code",
      "metadata": {
        "id": "fKzt05rHPUqv"
      },
      "source": [
        ""
      ],
      "execution_count": 9,
      "outputs": []
    }
  ]
}