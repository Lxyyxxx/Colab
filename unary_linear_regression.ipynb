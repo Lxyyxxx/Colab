{
  "nbformat": 4,
  "nbformat_minor": 0,
  "metadata": {
    "colab": {
      "name": "unary_linear_regression.ipynb",
      "provenance": [],
      "collapsed_sections": [],
      "authorship_tag": "ABX9TyMS3/4HGMNaUE9V3Dq41rYp",
      "include_colab_link": true
    },
    "kernelspec": {
      "name": "python3",
      "display_name": "Python 3"
    },
    "language_info": {
      "name": "python"
    }
  },
  "cells": [
    {
      "cell_type": "markdown",
      "metadata": {
        "id": "view-in-github",
        "colab_type": "text"
      },
      "source": [
        "<a href=\"https://colab.research.google.com/github/Lxyyxxx/Colab/blob/main/unary_linear_regression.ipynb\" target=\"_parent\"><img src=\"https://colab.research.google.com/assets/colab-badge.svg\" alt=\"Open In Colab\"/></a>"
      ]
    },
    {
      "cell_type": "code",
      "source": [
        "import numpy as np\n",
        "from tensorflow import keras\n",
        "import matplotlib.pyplot as plt"
      ],
      "metadata": {
        "id": "nXh99zsV0y43"
      },
      "execution_count": 1,
      "outputs": []
    },
    {
      "cell_type": "code",
      "source": [
        "# create some data\n",
        "n = 200\n",
        "\n",
        "X = np.random.normal(0, 10, (n, ))\n",
        "# X = np.random.uniform(0, 999, (n, ))  # 如果 X 很大，Y 很小，loss 会爆炸\n",
        "# X = np.random.rand(n)  # 如果不是同分布就不太好训练\n",
        "\n",
        "W = 0.05\n",
        "b = 0.01\n",
        "noise = np.random.normal(0, .01, (n, ))  # 如果 noise 方差比较大的话也不太好训练\n",
        "Y = W * X + b + noise  # f(x) = Wx + b\n",
        "\n",
        "plt.scatter(X, Y)\n",
        "plt.show()"
      ],
      "metadata": {
        "colab": {
          "base_uri": "https://localhost:8080/",
          "height": 265
        },
        "id": "ffDfgvA77R9B",
        "outputId": "9bf574d6-8318-4f9c-d847-1cb32d378bc4"
      },
      "execution_count": 2,
      "outputs": [
        {
          "output_type": "display_data",
          "data": {
            "text/plain": [
              "<Figure size 432x288 with 1 Axes>"
            ],
            "image/png": "[encoded data removed]"
          },
          "metadata": {
            "needs_background": "light"
          }
        }
      ]
    },
    {
      "cell_type": "code",
      "source": [
        "# data split\n",
        "n_train = int(.8 * n)\n",
        "X_train, Y_train = X[:n_train], Y[:n_train]\n",
        "X_test, Y_test = X[n_train:], Y[n_train:]"
      ],
      "metadata": {
        "id": "g0r4OoZz7kZv"
      },
      "execution_count": 3,
      "outputs": []
    },
    {
      "cell_type": "code",
      "source": [
        "# model\n",
        "model = keras.Sequential([\n",
        "    keras.Input(shape=(1,)), \n",
        "    keras.layers.Dense(1) # without hidden layer\n",
        "])\n",
        "model.compile(loss='mse', optimizer='sgd')"
      ],
      "metadata": {
        "id": "asphFlkB7wn7"
      },
      "execution_count": 4,
      "outputs": []
    },
    {
      "cell_type": "code",
      "source": [
        "# train\n",
        "epochs = 100\n",
        "batch_size = 16\n",
        "\n",
        "print('-' * 10, 'training', '-' * 10)\n",
        "\n",
        "for epoch in range(epochs):\n",
        "    verbose = 2 if epoch % 10 == 0 else 0\n",
        "    history = model.fit(X_train, Y_train, batch_size=batch_size, verbose=verbose)"
      ],
      "metadata": {
        "colab": {
          "base_uri": "https://localhost:8080/"
        },
        "id": "HXN7W1D78V_2",
        "outputId": "134973ee-d848-423a-a70a-11154c35350b"
      },
      "execution_count": 5,
      "outputs": [
        {
          "output_type": "stream",
          "name": "stdout",
          "text": [
            "---------- training ----------\n",
            "10/10 - 0s - loss: 12.6524 - 280ms/epoch - 28ms/step\n",
            "10/10 - 0s - loss: 1.6462e-04 - 12ms/epoch - 1ms/step\n",
            "10/10 - 0s - loss: 1.1313e-04 - 18ms/epoch - 2ms/step\n",
            "10/10 - 0s - loss: 1.3167e-04 - 11ms/epoch - 1ms/step\n",
            "10/10 - 0s - loss: 1.2060e-04 - 11ms/epoch - 1ms/step\n",
            "10/10 - 0s - loss: 1.5259e-04 - 17ms/epoch - 2ms/step\n",
            "10/10 - 0s - loss: 1.1895e-04 - 42ms/epoch - 4ms/step\n",
            "10/10 - 0s - loss: 4.3184e-04 - 47ms/epoch - 5ms/step\n",
            "10/10 - 0s - loss: 1.4597e-04 - 40ms/epoch - 4ms/step\n",
            "10/10 - 0s - loss: 1.9854e-04 - 44ms/epoch - 4ms/step\n"
          ]
        }
      ]
    },
    {
      "cell_type": "code",
      "source": [
        "# test\n",
        "print('-' * 10, 'testing', '-' * 10)\n",
        "\n",
        "loss = model.evaluate(X_test, Y_test, batch_size=batch_size)\n",
        "print('loss:', loss)\n",
        "\n",
        "W_pred, b_pred = model.layers[-1].get_weights()\n",
        "print('W_pred = ', W_pred, 'b_pred = ', b_pred)\n",
        "print('W_true = ', W, 'b_true = ', b)"
      ],
      "metadata": {
        "colab": {
          "base_uri": "https://localhost:8080/"
        },
        "id": "m0TzM8oM9VDy",
        "outputId": "a5ecfb9a-ef91-46cf-e485-0a270ebf06a2"
      },
      "execution_count": 6,
      "outputs": [
        {
          "output_type": "stream",
          "name": "stdout",
          "text": [
            "---------- testing ----------\n",
            "3/3 [==============================] - 0s 4ms/step - loss: 7.5174e-05\n",
            "loss: 7.5173782533966e-05\n",
            "W_pred =  [[0.0499028]] b_pred =  [0.00952976]\n",
            "W_true =  0.05 b_true =  0.01\n"
          ]
        }
      ]
    },
    {
      "cell_type": "code",
      "source": [
        "# plotting the prediction\n",
        "Y_pred = model.predict(X_test)\n",
        "plt.scatter(X_test, Y_test)\n",
        "plt.plot(X_test, Y_pred, color='r')\n",
        "plt.show()"
      ],
      "metadata": {
        "colab": {
          "base_uri": "https://localhost:8080/",
          "height": 265
        },
        "id": "RhoVf841-VJu",
        "outputId": "68e1279c-5438-464a-d4e8-c05ce313ed57"
      },
      "execution_count": 7,
      "outputs": [
        {
          "output_type": "display_data",
          "data": {
            "text/plain": [
              "<Figure size 432x288 with 1 Axes>"
            ],
            "image/png": "[encoded data removed]"
          },
          "metadata": {
            "needs_background": "light"
          }
        }
      ]
    },
    {
      "cell_type": "code",
      "source": [
        "# 试一下层比较多能不能训练得比较好\n",
        "# model\n",
        "model = keras.Sequential([\n",
        "    keras.Input(shape=(1,)), \n",
        "    keras.layers.Dense(16, activation='elu'),\n",
        "    keras.layers.Dense(8, activation='elu'),  # with 2 hidden layers\n",
        "    keras.layers.Dense(1)\n",
        "])\n",
        "model.compile(loss='mse', optimizer='sgd')\n",
        "\n",
        "# train\n",
        "epochs = 100\n",
        "batch_size = 16\n",
        "print('-' * 10, 'training', '-' * 10)\n",
        "for epoch in range(epochs):\n",
        "    verbose = 2 if epoch % 10 == 0 else 0\n",
        "    history = model.fit(X_train, Y_train, batch_size=batch_size, verbose=verbose)\n",
        "\n",
        "# plotting the prediction\n",
        "Y_pred = model.predict(X_test)\n",
        "plt.scatter(X_test, Y_test)\n",
        "plt.plot(X_test, Y_pred, color='r')\n",
        "plt.show()"
      ],
      "metadata": {
        "colab": {
          "base_uri": "https://localhost:8080/",
          "height": 452
        },
        "id": "-QwNNCR1-Zir",
        "outputId": "ff4ae5d4-cf2e-4cc6-c236-d295738e79ef"
      },
      "execution_count": 8,
      "outputs": [
        {
          "output_type": "stream",
          "name": "stdout",
          "text": [
            "---------- training ----------\n",
            "10/10 - 0s - loss: 0.2083 - 332ms/epoch - 33ms/step\n",
            "10/10 - 0s - loss: 0.0016 - 12ms/epoch - 1ms/step\n",
            "10/10 - 0s - loss: 8.9300e-04 - 12ms/epoch - 1ms/step\n",
            "10/10 - 0s - loss: 7.9375e-04 - 12ms/epoch - 1ms/step\n",
            "10/10 - 0s - loss: 9.1020e-04 - 13ms/epoch - 1ms/step\n",
            "10/10 - 0s - loss: 8.6261e-04 - 13ms/epoch - 1ms/step\n",
            "10/10 - 0s - loss: 6.2565e-04 - 13ms/epoch - 1ms/step\n",
            "10/10 - 0s - loss: 6.6016e-04 - 18ms/epoch - 2ms/step\n",
            "10/10 - 0s - loss: 6.0996e-04 - 12ms/epoch - 1ms/step\n",
            "10/10 - 0s - loss: 5.3547e-04 - 13ms/epoch - 1ms/step\n"
          ]
        },
        {
          "output_type": "display_data",
          "data": {
            "text/plain": [
              "<Figure size 432x288 with 1 Axes>"
            ],
            "image/png": "[encoded data removed]"
          },
          "metadata": {
            "needs_background": "light"
          }
        }
      ]
    }
  ]
}