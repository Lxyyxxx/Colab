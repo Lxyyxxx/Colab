{
  "nbformat": 4,
  "nbformat_minor": 0,
  "metadata": {
    "colab": {
      "name": "unary_linear_regression.ipynb",
      "provenance": [],
      "collapsed_sections": [],
      "authorship_tag": "ABX9TyMuab2l4FVNW3b8EMr9sHc/",
      "include_colab_link": true
    },
    "kernelspec": {
      "name": "python3",
      "display_name": "Python 3"
    },
    "language_info": {
      "name": "python"
    }
  },
  "cells": [
    {
      "cell_type": "markdown",
      "metadata": {
        "id": "view-in-github",
        "colab_type": "text"
      },
      "source": [
        "<a href=\"https://colab.research.google.com/github/Lxyyxxx/Colab/blob/main/unary_linear_regression.ipynb\" target=\"_parent\"><img src=\"https://colab.research.google.com/assets/colab-badge.svg\" alt=\"Open In Colab\"/></a>"
      ]
    },
    {
      "cell_type": "code",
      "source": [
        "import numpy as np\n",
        "from tensorflow import keras\n",
        "import matplotlib.pyplot as plt"
      ],
      "metadata": {
        "id": "nXh99zsV0y43"
      },
      "execution_count": 1,
      "outputs": []
    },
    {
      "cell_type": "code",
      "source": [
        "# create some data\n",
        "n = 200\n",
        "\n",
        "# X = np.random.normal(0, 10, (n, ))\n",
        "X = np.random.uniform(0, 999, (n, ))  # 测试一下 X 很大，Y 很小\n",
        "# X = np.random.rand(n)  # 如果不是同分布就不太好训练\n",
        "\n",
        "W = -0.0005\n",
        "b = 0.0001\n",
        "noise = np.random.normal(0, .01, (n, ))  # 如果 noise 方差比较大的话也不太好训练\n",
        "Y = W * X + b + noise  # f(x) = Wx + b\n",
        "\n",
        "plt.scatter(X, Y)\n",
        "plt.show()"
      ],
      "metadata": {
        "colab": {
          "base_uri": "https://localhost:8080/",
          "height": 265
        },
        "id": "ffDfgvA77R9B",
        "outputId": "205c459a-7fec-49d7-ad9f-53f34efa5f31"
      },
      "execution_count": 2,
      "outputs": [
        {
          "output_type": "display_data",
          "data": {
            "text/plain": [
              "<Figure size 432x288 with 1 Axes>"
            ],
            "image/png": "[encoded data removed]"
          },
          "metadata": {
            "needs_background": "light"
          }
        }
      ]
    },
    {
      "cell_type": "code",
      "source": [
        "# data split\n",
        "n_train = int(.8 * n)\n",
        "X_train, Y_train = X[:n_train], Y[:n_train]\n",
        "X_test, Y_test = X[n_train:], Y[n_train:]"
      ],
      "metadata": {
        "id": "g0r4OoZz7kZv"
      },
      "execution_count": 3,
      "outputs": []
    },
    {
      "cell_type": "code",
      "source": [
        "# model\n",
        "model = keras.Sequential([\n",
        "    keras.Input(shape=(1,)), \n",
        "    keras.layers.BatchNormalization(),  # 如果 X 很大，Y 很小，loss 会爆炸，需要 Normalization\n",
        "    keras.layers.Dense(1) # without hidden layer\n",
        "])\n",
        "model.compile(loss='mse', optimizer='sgd')"
      ],
      "metadata": {
        "id": "asphFlkB7wn7"
      },
      "execution_count": 4,
      "outputs": []
    },
    {
      "cell_type": "code",
      "source": [
        "# train\n",
        "epochs = 100\n",
        "batch_size = 16\n",
        "\n",
        "print('-' * 10, 'training', '-' * 10)\n",
        "\n",
        "for epoch in range(epochs):\n",
        "    verbose = 2 if epoch % 10 == 0 else 0\n",
        "    history = model.fit(X_train, Y_train, batch_size=batch_size, verbose=verbose)"
      ],
      "metadata": {
        "colab": {
          "base_uri": "https://localhost:8080/"
        },
        "id": "HXN7W1D78V_2",
        "outputId": "8c64aaba-e0d4-49c3-f0a1-3aa26e5159c8"
      },
      "execution_count": null,
      "outputs": [
        {
          "output_type": "stream",
          "name": "stdout",
          "text": [
            "---------- training ----------\n",
            "10/10 - 0s - loss: 1.8018 - 374ms/epoch - 37ms/step\n",
            "10/10 - 0s - loss: 0.0037 - 14ms/epoch - 1ms/step\n",
            "10/10 - 0s - loss: 9.0548e-04 - 12ms/epoch - 1ms/step\n",
            "10/10 - 0s - loss: 9.9622e-04 - 27ms/epoch - 3ms/step\n",
            "10/10 - 0s - loss: 0.0023 - 18ms/epoch - 2ms/step\n",
            "10/10 - 0s - loss: 0.0023 - 17ms/epoch - 2ms/step\n",
            "10/10 - 0s - loss: 0.0016 - 33ms/epoch - 3ms/step\n",
            "10/10 - 0s - loss: 0.0017 - 34ms/epoch - 3ms/step\n",
            "10/10 - 0s - loss: 9.8863e-04 - 22ms/epoch - 2ms/step\n",
            "10/10 - 0s - loss: 0.0014 - 43ms/epoch - 4ms/step\n"
          ]
        }
      ]
    },
    {
      "cell_type": "code",
      "source": [
        "# test\n",
        "print('-' * 10, 'testing', '-' * 10)\n",
        "\n",
        "loss = model.evaluate(X_test, Y_test, batch_size=batch_size)\n",
        "print('loss:', loss)\n",
        "\n",
        "W_pred, b_pred = model.layers[-1].get_weights()\n",
        "print('W_pred = ', W_pred, 'b_pred = ', b_pred)\n",
        "print('W_true = ', W, 'b_true = ', b)"
      ],
      "metadata": {
        "colab": {
          "base_uri": "https://localhost:8080/"
        },
        "id": "m0TzM8oM9VDy",
        "outputId": "cda856d5-aad1-4bfc-f0e0-b12855d40865"
      },
      "execution_count": 6,
      "outputs": [
        {
          "output_type": "stream",
          "name": "stdout",
          "text": [
            "---------- testing ----------\n",
            "3/3 [==============================] - 0s 4ms/step - loss: 9.5859e-05\n",
            "loss: 9.585900988895446e-05\n",
            "W_pred =  [[1.2225211]] b_pred =  [-0.08505019]\n",
            "W_true =  -0.0005 b_true =  0.0001\n"
          ]
        }
      ]
    },
    {
      "cell_type": "code",
      "source": [
        "# plotting the prediction\n",
        "Y_pred = model.predict(X_test)\n",
        "plt.scatter(X_test, Y_test)\n",
        "plt.plot(X_test, Y_pred, color='r')\n",
        "plt.show()"
      ],
      "metadata": {
        "colab": {
          "base_uri": "https://localhost:8080/",
          "height": 265
        },
        "id": "RhoVf841-VJu",
        "outputId": "262d1fd3-051a-46ed-a6b2-aec39949e805"
      },
      "execution_count": 7,
      "outputs": [
        {
          "output_type": "display_data",
          "data": {
            "text/plain": [
              "<Figure size 432x288 with 1 Axes>"
            ],
            "image/png": "[encoded data removed]"
          },
          "metadata": {
            "needs_background": "light"
          }
        }
      ]
    },
    {
      "cell_type": "code",
      "source": [
        "# 试一下层比较多能不能训练得比较好\n",
        "# model\n",
        "model = keras.Sequential([\n",
        "    keras.Input(shape=(1,)),\n",
        "    keras.layers.BatchNormalization(),\n",
        "    keras.layers.Dense(16),\n",
        "    keras.layers.Dense(8),  # with 2 hidden layers\n",
        "    keras.layers.Dense(1)\n",
        "])\n",
        "model.compile(loss='mse', optimizer='sgd')\n",
        "\n",
        "# train\n",
        "epochs = 100\n",
        "batch_size = 16\n",
        "print('-' * 10, 'training', '-' * 10)\n",
        "for epoch in range(epochs):\n",
        "    verbose = 2 if epoch % 10 == 0 else 0\n",
        "    history = model.fit(X_train, Y_train, batch_size=batch_size, verbose=verbose)\n",
        "\n",
        "# plotting the prediction\n",
        "Y_pred = model.predict(X_test)\n",
        "plt.scatter(X_test, Y_test)\n",
        "plt.plot(X_test, Y_pred, color='r')\n",
        "plt.show()"
      ],
      "metadata": {
        "colab": {
          "base_uri": "https://localhost:8080/",
          "height": 452
        },
        "id": "-QwNNCR1-Zir",
        "outputId": "f348bef0-0dcb-4094-9983-fb6a306c3a16"
      },
      "execution_count": 8,
      "outputs": [
        {
          "output_type": "stream",
          "name": "stdout",
          "text": [
            "---------- training ----------\n",
            "10/10 - 0s - loss: 0.0604 - 405ms/epoch - 41ms/step\n",
            "10/10 - 0s - loss: 0.0026 - 13ms/epoch - 1ms/step\n",
            "10/10 - 0s - loss: 0.0025 - 14ms/epoch - 1ms/step\n",
            "10/10 - 0s - loss: 0.0013 - 13ms/epoch - 1ms/step\n",
            "10/10 - 0s - loss: 0.0018 - 19ms/epoch - 2ms/step\n",
            "10/10 - 0s - loss: 0.0013 - 13ms/epoch - 1ms/step\n",
            "10/10 - 0s - loss: 0.0014 - 15ms/epoch - 1ms/step\n",
            "10/10 - 0s - loss: 0.0019 - 13ms/epoch - 1ms/step\n",
            "10/10 - 0s - loss: 0.0029 - 18ms/epoch - 2ms/step\n",
            "10/10 - 0s - loss: 0.0013 - 13ms/epoch - 1ms/step\n"
          ]
        },
        {
          "output_type": "display_data",
          "data": {
            "text/plain": [
              "<Figure size 432x288 with 1 Axes>"
            ],
            "image/png": "[encoded data removed]"
          },
          "metadata": {
            "needs_background": "light"
          }
        }
      ]
    }
  ]
}